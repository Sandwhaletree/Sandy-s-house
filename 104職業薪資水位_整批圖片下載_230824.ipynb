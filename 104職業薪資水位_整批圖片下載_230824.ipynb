{
 "cells": [
  {
   "cell_type": "code",
   "execution_count": 1,
   "id": "fa32378e",
   "metadata": {},
   "outputs": [
    {
     "name": "stdout",
     "output_type": "stream",
     "text": [
      "Requirement already satisfied: selenium in c:\\users\\user\\anaconda3\\lib\\site-packages (3.141.0)\n",
      "Requirement already satisfied: urllib3 in c:\\users\\user\\anaconda3\\lib\\site-packages (from selenium) (1.26.11)\n",
      "Requirement already satisfied: webdriver_manager in c:\\users\\user\\anaconda3\\lib\\site-packages (3.8.6)\n",
      "Requirement already satisfied: tqdm in c:\\users\\user\\anaconda3\\lib\\site-packages (from webdriver_manager) (4.64.1)\n",
      "Requirement already satisfied: python-dotenv in c:\\users\\user\\anaconda3\\lib\\site-packages (from webdriver_manager) (1.0.0)\n",
      "Requirement already satisfied: requests in c:\\users\\user\\anaconda3\\lib\\site-packages (from webdriver_manager) (2.31.0)\n",
      "Requirement already satisfied: packaging in c:\\users\\user\\anaconda3\\lib\\site-packages (from webdriver_manager) (21.3)\n",
      "Requirement already satisfied: pyparsing!=3.0.5,>=2.0.2 in c:\\users\\user\\anaconda3\\lib\\site-packages (from packaging->webdriver_manager) (3.0.9)\n",
      "Requirement already satisfied: urllib3<3,>=1.21.1 in c:\\users\\user\\anaconda3\\lib\\site-packages (from requests->webdriver_manager) (1.26.11)\n",
      "Requirement already satisfied: charset-normalizer<4,>=2 in c:\\users\\user\\anaconda3\\lib\\site-packages (from requests->webdriver_manager) (2.0.4)\n",
      "Requirement already satisfied: certifi>=2017.4.17 in c:\\users\\user\\anaconda3\\lib\\site-packages (from requests->webdriver_manager) (2022.9.14)\n",
      "Requirement already satisfied: idna<4,>=2.5 in c:\\users\\user\\anaconda3\\lib\\site-packages (from requests->webdriver_manager) (2.10)\n",
      "Requirement already satisfied: colorama in c:\\users\\user\\anaconda3\\lib\\site-packages (from tqdm->webdriver_manager) (0.4.5)\n"
     ]
    }
   ],
   "source": [
    "!pip install selenium\n",
    "!pip install webdriver_manager"
   ]
  },
  {
   "cell_type": "code",
   "execution_count": 2,
   "id": "13841367",
   "metadata": {},
   "outputs": [
    {
     "name": "stdout",
     "output_type": "stream",
     "text": [
      "3.141.0\n"
     ]
    }
   ],
   "source": [
    "#查看版本\n",
    "import selenium\n",
    "print(selenium.__version__)"
   ]
  },
  {
   "cell_type": "code",
   "execution_count": 24,
   "id": "2dacecd6",
   "metadata": {},
   "outputs": [
    {
     "data": {
      "text/plain": [
       "'C:\\\\Users\\\\USER\\\\OneDrive\\\\0_Jupiter_save'"
      ]
     },
     "execution_count": 24,
     "metadata": {},
     "output_type": "execute_result"
    }
   ],
   "source": [
    "#檢查目前路徑\n",
    "import os\n",
    "os.getcwd()\n",
    "# #是否要更換路徑\n",
    "# os.chdir(\"C:\\\\Users\\\\USER\\\\OneDrive\\\\0_Jupiter_save\")"
   ]
  },
  {
   "cell_type": "code",
   "execution_count": 9,
   "id": "59b171b1",
   "metadata": {},
   "outputs": [],
   "source": [
    "# #簡單測試開啟網址\n",
    "# from selenium import webdriver\n",
    "# from webdriver_manager.chrome import ChromeDriverManager\n",
    "# driver=webdriver.Chrome('./chromedriver')\n",
    "# driver.get(\"https://guide.104.com.tw/salary/\")\n",
    "# driver.close() # 關閉視窗"
   ]
  },
  {
   "cell_type": "code",
   "execution_count": 9,
   "id": "66fd85bc",
   "metadata": {},
   "outputs": [],
   "source": [
    "import time\n",
    "import os\n",
    "import datetime"
   ]
  },
  {
   "cell_type": "code",
   "execution_count": 25,
   "id": "932f2553",
   "metadata": {},
   "outputs": [],
   "source": [
    "#檢查是否可以截圖\n",
    "\n",
    "from selenium import webdriver\n",
    "from webdriver_manager.chrome import ChromeDriverManager\n",
    "# 設置 Chrome 選項\n",
    "options = webdriver.ChromeOptions()\n",
    "# options.add_argument('--headless')  # 選擇無頭模式\n",
    "options.add_argument('--no-sandbox')\n",
    "options.add_argument('--disable-dev-shm-usage')\n",
    "\n",
    "# 打開網站\n",
    "driver=webdriver.Chrome('./chromedriver', options=options)\n",
    "driver.get(\"https://guide.104.com.tw/salary/\")\n",
    "\n",
    "# 截圖\n",
    "# driver.save_screenshot(\"screenshot.png\")"
   ]
  },
  {
   "cell_type": "code",
   "execution_count": 26,
   "id": "8355f4f4",
   "metadata": {},
   "outputs": [
    {
     "name": "stdout",
     "output_type": "stream",
     "text": [
      "請輸入想要搜尋的職位數據分析\n",
      "準備搜尋title: 數據分析\n"
     ]
    }
   ],
   "source": [
    "#搜尋職稱title\n",
    "title = input(\"請輸入想要搜尋的職位\") #ex:區塊鏈\n",
    "print('準備搜尋title:',title)\n",
    "#點選搜尋bar，產生下拉式選單\n",
    "from selenium.webdriver.common.by import By #更新selenium指令\n",
    "driver.find_element(By.CSS_SELECTOR,\"input[placeholder*='輸入職務或選類別']\").send_keys(title)\n",
    "time.sleep(1)\n",
    "driver.find_element(By.CSS_SELECTOR,\"input[placeholder*='輸入職務或選類別']\").click()\n",
    "time.sleep(3)"
   ]
  },
  {
   "cell_type": "code",
   "execution_count": 27,
   "id": "cd9cabc0",
   "metadata": {},
   "outputs": [
    {
     "name": "stdout",
     "output_type": "stream",
     "text": [
      "第0行: \n",
      "第1行: \n",
      "第2行: \n",
      "第3行: 數據分析師\n",
      "第4行: 數據分析實習生\n",
      "第5行: 數據分析工程師\n",
      "第6行: 數據分析專員\n",
      "第7行: 數據分析助理\n"
     ]
    }
   ],
   "source": [
    "#了解目前有哪些keyword職缺(下單式選單項目)\n",
    "elements = driver.find_elements(By.CLASS_NAME,'menuItem.cursor-pointer')\n",
    "n=0\n",
    "for element in elements:\n",
    "    print('第'+str(n)+'行:',element.text)\n",
    "    n+=1"
   ]
  },
  {
   "cell_type": "code",
   "execution_count": 28,
   "id": "87eaa6b5",
   "metadata": {},
   "outputs": [
    {
     "name": "stdout",
     "output_type": "stream",
     "text": [
      "請輸入想要第幾個工作內容3\n"
     ]
    }
   ],
   "source": [
    "title_want = int(input(\"請輸入想要第幾個工作內容\"))"
   ]
  },
  {
   "cell_type": "code",
   "execution_count": 17,
   "id": "2de42e0f",
   "metadata": {},
   "outputs": [
    {
     "data": {
      "text/plain": [
       "'數據分析實習生'"
      ]
     },
     "execution_count": 17,
     "metadata": {},
     "output_type": "execute_result"
    }
   ],
   "source": [
    "driver.find_elements(By.CLASS_NAME,'menuItem.cursor-pointer')[title_want].text"
   ]
  },
  {
   "cell_type": "code",
   "execution_count": 29,
   "id": "26659370",
   "metadata": {},
   "outputs": [
    {
     "name": "stdout",
     "output_type": "stream",
     "text": [
      "https://guide.104.com.tw/salary/job?analyze={}&salary=monthly&kw=%E6%95%B8%E6%93%9A%E5%88%86%E6%9E%90%E5%B8%AB\n"
     ]
    }
   ],
   "source": [
    "#選取職位&客製化網址\n",
    "\n",
    "#選取想要的職位\n",
    "title_job = driver.find_elements(By.CLASS_NAME,'menuItem.cursor-pointer')[title_want].text\n",
    "#確定符合職稱，再次點選[確保[3].text皆一致]\n",
    "driver.find_elements(By.CLASS_NAME,'menuItem.cursor-pointer')[title_want].click()\n",
    "#點擊搜尋，產生url\n",
    "driver.find_element(By.CSS_SELECTOR,'button').click()\n",
    "time.sleep(6)\n",
    "#產生目前網址\n",
    "url_now = driver.current_url\n",
    "#客製化網址\n",
    "url_now = url_now.replace(\"workexp\",\"{}\")\n",
    "print(url_now)"
   ]
  },
  {
   "cell_type": "code",
   "execution_count": 30,
   "id": "5f4ed49a",
   "metadata": {},
   "outputs": [
    {
     "name": "stdout",
     "output_type": "stream",
     "text": [
      "https://guide.104.com.tw/salary/job?analyze=workexp&salary=monthly&kw=%E6%95%B8%E6%93%9A%E5%88%86%E6%9E%90%E5%B8%AB\n"
     ]
    }
   ],
   "source": [
    "print(driver.current_url)"
   ]
  },
  {
   "cell_type": "code",
   "execution_count": 32,
   "id": "e431cd43",
   "metadata": {},
   "outputs": [
    {
     "name": "stdout",
     "output_type": "stream",
     "text": [
      "完成截圖 2023-08-24_數據分析師_0_mix.png\n",
      "完成截圖 2023-08-24_數據分析師_1_workexp.png\n",
      "完成截圖 2023-08-24_數據分析師_2_area.png\n",
      "完成截圖 2023-08-24_數據分析師_3_industry.png\n",
      "完成截圖 2023-08-24_數據分析師_4_edu.png\n",
      "完成截圖 2023-08-24_數據分析師_5_scale.png\n"
     ]
    }
   ],
   "source": [
    "#輸入欲查詢分頁\n",
    "search = ['mix','workexp','area','industry','edu','scale'] #查詢分頁 #薪水估算=mix；經歷=workexp；地區=area；產業=industry；學歷=edu；公司規模=scale\n",
    "# search2 = ['薪水估算','經歷','地區','產業','學歷','公司規模']\n",
    "\n",
    "driver.set_window_size(1200, 900) #視窗最大化\n",
    "\n",
    "#改變目前路徑\n",
    "import os\n",
    "os.chdir('C:\\\\Users\\\\USER\\\\OneDrive\\\\0_Jupiter_save\\\\104職業薪資水位_整批圖片下載') \n",
    "\n",
    "#建立新檔並將檔案移至新資料夾\n",
    "if not os.path.isdir(title_job): # 確認是否有jobs_csv資料夾  沒有則返回Ture\n",
    "    os.mkdir(title_job) # 建立jobs_csv資料夾\n",
    "    print('建立',title_job,'資料夾完成')\n",
    "os.chdir(f'./{title_job}') #目錄移至新檔案\n",
    "\n",
    "import datetime\n",
    "#逐步開啟分頁印出\n",
    "for i in range(len(search)):\n",
    "    driver.get(url_now.format(search[i])) #獲取104個分頁網頁\n",
    "    if i !=2 and i !=3:\n",
    "        driver.execute_script(\"document.body.style.zoom='0.5';\") #縮小視窗\n",
    "        time.sleep(5)\n",
    "        #網頁截圖\n",
    "        date = str(datetime.date.today())\n",
    "        pic_name = date +'_'+ title_job +'_'+ str(i)+'_'+search[i]+'.png'\n",
    "        driver.save_screenshot(pic_name)\n",
    "        print('完成截圖',pic_name)\n",
    "    else:\n",
    "        driver.execute_script(\"document.body.style.zoom='0.5';\") #縮小視窗\n",
    "        time.sleep(5)\n",
    "        #網頁截圖\n",
    "        date = str(datetime.date.today())\n",
    "        pic_name = date +'_'+ title_job +'_'+ str(i)+'_'+search[i]+'.png'\n",
    "        driver.save_screenshot(pic_name)\n",
    "        print('完成截圖',pic_name)"
   ]
  },
  {
   "cell_type": "code",
   "execution_count": null,
   "id": "496e4bc6",
   "metadata": {},
   "outputs": [],
   "source": [
    "# 關閉 WebDriver\n",
    "driver.quit()"
   ]
  }
 ],
 "metadata": {
  "kernelspec": {
   "display_name": "Python 3 (ipykernel)",
   "language": "python",
   "name": "python3"
  },
  "language_info": {
   "codemirror_mode": {
    "name": "ipython",
    "version": 3
   },
   "file_extension": ".py",
   "mimetype": "text/x-python",
   "name": "python",
   "nbconvert_exporter": "python",
   "pygments_lexer": "ipython3",
   "version": "3.9.13"
  }
 },
 "nbformat": 4,
 "nbformat_minor": 5
}
