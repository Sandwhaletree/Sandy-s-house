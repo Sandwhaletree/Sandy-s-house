{
  "nbformat": 4,
  "nbformat_minor": 0,
  "metadata": {
    "colab": {
      "provenance": [],
      "mount_file_id": "1sBuvkYtIL1XOI8-rntg5IqocEigakdRs",
      "authorship_tag": "ABX9TyO9MborCoFHS6+YepDymjnJ",
      "include_colab_link": true
    },
    "kernelspec": {
      "name": "python3",
      "display_name": "Python 3"
    },
    "language_info": {
      "name": "python"
    },
    "gpuClass": "standard"
  },
  "cells": [
    {
      "cell_type": "markdown",
      "metadata": {
        "id": "view-in-github",
        "colab_type": "text"
      },
      "source": [
        "<a href=\"https://colab.research.google.com/github/Sandwhaletree/Sandy-s-house/blob/main/Open_Bulk_URL.ipynb\" target=\"_parent\"><img src=\"https://colab.research.google.com/assets/colab-badge.svg\" alt=\"Open In Colab\"/></a>"
      ]
    },
    {
      "cell_type": "markdown",
      "source": [
        "#*🔥* **一次開啟多個英文網頁**🔥"
      ],
      "metadata": {
        "id": "BHF5svNQ6FJa"
      }
    },
    {
      "cell_type": "markdown",
      "source": [
        "### **英文網頁**\n",
        "* [朗文字典](https://www.ldoceonline.com/)\n",
        "* [Oxford字典](https://www.oxfordlearnersdictionaries.com/)\n",
        "* [Youglish情境句](https://youglish.com/)\n",
        "* [Yarn情境句](https://getyarn.io/)\n",
        "* [Zdic詞意搭配](https://ozdic.com/)\n",
        "* [Linggle詞意搭配](https://linggle.com/)"
      ],
      "metadata": {
        "id": "96s_tvCoHO_i"
      }
    },
    {
      "cell_type": "code",
      "source": [
        "#[Java script]開啟網頁>>執行即可獲得一次開啟多個網頁\n",
        "%%javascript\n",
        "window.open('https://www.ldoceonline.com/', '_blank');\n",
        "window.open('https://www.oxfordlearnersdictionaries.com/', '_blank');\n",
        "window.open('https://youglish.com/', '_blank');\n",
        "window.open('https://getyarn.io/', '_blank');\n",
        "window.open('https://ozdic.com/', '_blank');\n",
        "window.open('https://linggle.com/', '_blank'); "
      ],
      "metadata": {
        "colab": {
          "base_uri": "https://localhost:8080/",
          "height": 17
        },
        "id": "46mXkx7zDiFl",
        "outputId": "8344468d-fd2d-4fd6-e1f9-4cecd80cb843"
      },
      "execution_count": null,
      "outputs": [
        {
          "output_type": "display_data",
          "data": {
            "text/plain": [
              "<IPython.core.display.Javascript object>"
            ],
            "application/javascript": [
              "window.open('https://www.ldoceonline.com/', '_blank');\n",
              "window.open('https://www.oxfordlearnersdictionaries.com/', '_blank');\n",
              "window.open('https://youglish.com/', '_blank');\n",
              "window.open('https://getyarn.io/', '_blank');\n",
              "window.open('https://ozdic.com/', '_blank');\n",
              "window.open('https://linggle.com/', '_blank'); \n"
            ]
          },
          "metadata": {}
        }
      ]
    },
    {
      "cell_type": "code",
      "source": [
        "#[python]開啟網頁\n",
        "#匯入 webbrowser\n",
        "import webbrowser\n",
        "\n",
        "#打開英文網頁\n",
        "webbrowser.open('https://www.ldoceonline.com/') #字典 #朗文\n",
        "# webbrowser.open('https://www.oxfordlearnersdictionaries.com/') #字典 #Oxford\n",
        "# webbrowser.open('https://youglish.com/') #情境例句 #youglish\n",
        "# webbrowser.open('https://getyarn.io/') #情境例句 #yarn\n",
        "# webbrowser.open('https://ozdic.com/')  #Collocation詞義搭配 #zdic\n",
        "# webbrowser.open('https://linggle.com/')  #Collocation詞義搭配 #linggle"
      ],
      "metadata": {
        "colab": {
          "base_uri": "https://localhost:8080/"
        },
        "id": "6lq-JOHIS-DV",
        "outputId": "39bfe2a7-0929-4d18-b80e-b46c9cdc4d8a"
      },
      "execution_count": null,
      "outputs": [
        {
          "output_type": "execute_result",
          "data": {
            "text/plain": [
              "False"
            ]
          },
          "metadata": {},
          "execution_count": 1
        }
      ]
    },
    {
      "cell_type": "code",
      "source": [
        "%%javascript\n",
        "\n",
        "address = input(\"請輸入地址: \")\n",
        "window.open('https://www.google.com.tw/maps/place/'+ address)"
      ],
      "metadata": {
        "colab": {
          "base_uri": "https://localhost:8080/",
          "height": 17
        },
        "id": "pxLBn0bOPoDt",
        "outputId": "73d9e140-1a8c-48bc-9e5c-cd07e9d7e169"
      },
      "execution_count": null,
      "outputs": [
        {
          "output_type": "display_data",
          "data": {
            "text/plain": [
              "<IPython.core.display.Javascript object>"
            ],
            "application/javascript": [
              "\n",
              "address = input(\"請輸入地址: \")\n",
              "window.open('https://www.google.com.tw/maps/place/'+ address)\n"
            ]
          },
          "metadata": {}
        }
      ]
    },
    {
      "cell_type": "code",
      "source": [
        "from selenium.webdriver.common.by import By\n",
        "from selenium import webdriver"
      ],
      "metadata": {
        "id": "lfkbplI5hUTk"
      },
      "execution_count": null,
      "outputs": []
    }
  ]
}